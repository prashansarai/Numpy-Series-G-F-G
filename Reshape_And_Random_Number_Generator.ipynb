{
  "nbformat": 4,
  "nbformat_minor": 0,
  "metadata": {
    "colab": {
      "provenance": [],
      "authorship_tag": "ABX9TyM901nUxFBsS1vArntFzhUN"
    },
    "kernelspec": {
      "name": "python3",
      "display_name": "Python 3"
    },
    "language_info": {
      "name": "python"
    }
  },
  "cells": [
    {
      "cell_type": "code",
      "execution_count": 1,
      "metadata": {
        "id": "7Tx2Ha0ovPId"
      },
      "outputs": [],
      "source": [
        "import numpy as np"
      ]
    },
    {
      "cell_type": "code",
      "source": [
        "np.random.random((3,3))"
      ],
      "metadata": {
        "colab": {
          "base_uri": "https://localhost:8080/"
        },
        "id": "ehm-OyrOwKvj",
        "outputId": "f39f412f-484b-43f5-9bec-54b8a6a9cf14"
      },
      "execution_count": 2,
      "outputs": [
        {
          "output_type": "execute_result",
          "data": {
            "text/plain": [
              "array([[0.53535172, 0.1053362 , 0.61475327],\n",
              "       [0.4688357 , 0.1953872 , 0.6203522 ],\n",
              "       [0.02635678, 0.42850034, 0.65633962]])"
            ]
          },
          "metadata": {},
          "execution_count": 2
        }
      ]
    },
    {
      "cell_type": "code",
      "source": [
        "arr = np.random.random((3,4))\n",
        "arr"
      ],
      "metadata": {
        "colab": {
          "base_uri": "https://localhost:8080/"
        },
        "id": "ik32Yhn-wUVt",
        "outputId": "4d246588-0c88-4daf-dcfe-c833c5af8504"
      },
      "execution_count": 16,
      "outputs": [
        {
          "output_type": "execute_result",
          "data": {
            "text/plain": [
              "array([[0.73769243, 0.11677505, 0.63499647, 0.59471842],\n",
              "       [0.5395059 , 0.3473441 , 0.98402038, 0.83627503],\n",
              "       [0.88935241, 0.75382528, 0.60243083, 0.33348844]])"
            ]
          },
          "metadata": {},
          "execution_count": 16
        }
      ]
    },
    {
      "cell_type": "code",
      "source": [
        "np.random.random()"
      ],
      "metadata": {
        "colab": {
          "base_uri": "https://localhost:8080/"
        },
        "id": "nmPcENiQwcta",
        "outputId": "4e8ce359-c4cd-499a-b2e2-20a59103f490"
      },
      "execution_count": 4,
      "outputs": [
        {
          "output_type": "execute_result",
          "data": {
            "text/plain": [
              "0.9947277455201258"
            ]
          },
          "metadata": {},
          "execution_count": 4
        }
      ]
    },
    {
      "cell_type": "code",
      "source": [
        "if np.random.random()>0.5:\n",
        "   print(\"hello\")\n",
        "else:\n",
        "   print(\"bye\")\n"
      ],
      "metadata": {
        "colab": {
          "base_uri": "https://localhost:8080/"
        },
        "id": "i-7VOeTRwm2n",
        "outputId": "9ff12a0e-9c37-4ec8-8365-d05ef7788ccd"
      },
      "execution_count": 8,
      "outputs": [
        {
          "output_type": "stream",
          "name": "stdout",
          "text": [
            "bye\n"
          ]
        }
      ]
    },
    {
      "cell_type": "code",
      "source": [
        "np.arange(1,11,3)"
      ],
      "metadata": {
        "colab": {
          "base_uri": "https://localhost:8080/"
        },
        "id": "iZ-iF9O5xDvY",
        "outputId": "005f480c-a1bb-419f-937a-c6b62133ed95"
      },
      "execution_count": 9,
      "outputs": [
        {
          "output_type": "execute_result",
          "data": {
            "text/plain": [
              "array([ 1,  4,  7, 10])"
            ]
          },
          "metadata": {},
          "execution_count": 9
        }
      ]
    },
    {
      "cell_type": "code",
      "source": [
        "arr = np.reshape(arr,(4,3))\n",
        "arr"
      ],
      "metadata": {
        "colab": {
          "base_uri": "https://localhost:8080/"
        },
        "id": "Q5_QVF37xaPn",
        "outputId": "07c839a0-61ba-4bf6-db16-22e8834ae50b"
      },
      "execution_count": 19,
      "outputs": [
        {
          "output_type": "execute_result",
          "data": {
            "text/plain": [
              "array([[0.73769243, 0.11677505, 0.63499647],\n",
              "       [0.59471842, 0.5395059 , 0.3473441 ],\n",
              "       [0.98402038, 0.83627503, 0.88935241],\n",
              "       [0.75382528, 0.60243083, 0.33348844]])"
            ]
          },
          "metadata": {},
          "execution_count": 19
        }
      ]
    },
    {
      "cell_type": "code",
      "source": [
        "arr.flatten()"
      ],
      "metadata": {
        "colab": {
          "base_uri": "https://localhost:8080/"
        },
        "id": "BrFx_Sd6yteK",
        "outputId": "d4740c17-053f-4cb0-a01e-22dbeb8ac487"
      },
      "execution_count": 20,
      "outputs": [
        {
          "output_type": "execute_result",
          "data": {
            "text/plain": [
              "array([0.73769243, 0.11677505, 0.63499647, 0.59471842, 0.5395059 ,\n",
              "       0.3473441 , 0.98402038, 0.83627503, 0.88935241, 0.75382528,\n",
              "       0.60243083, 0.33348844])"
            ]
          },
          "metadata": {},
          "execution_count": 20
        }
      ]
    }
  ]
}